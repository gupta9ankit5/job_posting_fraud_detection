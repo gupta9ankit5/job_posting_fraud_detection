{
  "nbformat": 4,
  "nbformat_minor": 0,
  "metadata": {
    "colab": {
      "name": "Fake_Job_Prediction.ipynb",
      "provenance": [],
      "collapsed_sections": []
    },
    "kernelspec": {
      "name": "python3",
      "display_name": "Python 3"
    },
    "language_info": {
      "name": "python"
    }
  },
  "cells": [
    {
      "cell_type": "markdown",
      "metadata": {
        "id": "o4WUNy_96j49"
      },
      "source": [
        "[Real or Fake] Fake JobPosting Prediction"
      ]
    },
    {
      "cell_type": "code",
      "metadata": {
        "id": "haOmx3XMNjZK"
      },
      "source": [
        "import os\n",
        "from google.colab import drive\n",
        "import warnings\n",
        "warnings.filterwarnings('ignore')\n",
        "import numpy as np\n",
        "import pandas as pd\n",
        "import matplotlib.pyplot as plt\n",
        "import seaborn as sns\n",
        "import re\n",
        "%matplotlib inline\n",
        "pd.reset_option(\"display.max_rows\")"
      ],
      "execution_count": null,
      "outputs": []
    },
    {
      "cell_type": "code",
      "metadata": {
        "colab": {
          "base_uri": "https://localhost:8080/"
        },
        "id": "V1kkyBQG6zDt",
        "outputId": "29f929e6-5109-439e-ebbb-ecd7ee8c5065"
      },
      "source": [
        "# Set-up\n",
        "drive.mount('/content/drive/')\n",
        "os.chdir(\"/content/drive/My Drive/colab\")\n",
        "! pip install kaggle\n",
        "! mkdir ~/.kaggle\n",
        "!cp kaggle.json ~/.kaggle/kaggle.json"
      ],
      "execution_count": null,
      "outputs": [
        {
          "output_type": "stream",
          "name": "stdout",
          "text": [
            "Mounted at /content/drive/\n",
            "Requirement already satisfied: kaggle in /usr/local/lib/python3.7/dist-packages (1.5.12)\n",
            "Requirement already satisfied: urllib3 in /usr/local/lib/python3.7/dist-packages (from kaggle) (1.24.3)\n",
            "Requirement already satisfied: python-slugify in /usr/local/lib/python3.7/dist-packages (from kaggle) (5.0.2)\n",
            "Requirement already satisfied: tqdm in /usr/local/lib/python3.7/dist-packages (from kaggle) (4.62.0)\n",
            "Requirement already satisfied: certifi in /usr/local/lib/python3.7/dist-packages (from kaggle) (2021.5.30)\n",
            "Requirement already satisfied: six>=1.10 in /usr/local/lib/python3.7/dist-packages (from kaggle) (1.15.0)\n",
            "Requirement already satisfied: requests in /usr/local/lib/python3.7/dist-packages (from kaggle) (2.23.0)\n",
            "Requirement already satisfied: python-dateutil in /usr/local/lib/python3.7/dist-packages (from kaggle) (2.8.2)\n",
            "Requirement already satisfied: text-unidecode>=1.3 in /usr/local/lib/python3.7/dist-packages (from python-slugify->kaggle) (1.3)\n",
            "Requirement already satisfied: idna<3,>=2.5 in /usr/local/lib/python3.7/dist-packages (from requests->kaggle) (2.10)\n",
            "Requirement already satisfied: chardet<4,>=3.0.2 in /usr/local/lib/python3.7/dist-packages (from requests->kaggle) (3.0.4)\n"
          ]
        }
      ]
    },
    {
      "cell_type": "code",
      "metadata": {
        "id": "izqWi3U47KRa"
      },
      "source": [
        "# Load Dataset\n",
        "if not os.path.isfile('real-or-fake-fake-jobposting-prediction.zip'):\n",
        "  ! kaggle datasets download shivamb/real-or-fake-fake-jobposting-prediction\n",
        "if not os.path.isfile('fake_job_postings.csv'):\n",
        "  !unzip real-or-fake-fake-jobposting-prediction.zip"
      ],
      "execution_count": null,
      "outputs": []
    },
    {
      "cell_type": "code",
      "metadata": {
        "colab": {
          "base_uri": "https://localhost:8080/"
        },
        "id": "-xh841q-9aex",
        "outputId": "1de6b3f0-11da-4f93-b6d5-d03cbc5a543b"
      },
      "source": [
        "!ls"
      ],
      "execution_count": null,
      "outputs": [
        {
          "output_type": "stream",
          "name": "stdout",
          "text": [
            "fake_job_postings.csv  real-or-fake-fake-jobposting-prediction.zip\n",
            "kaggle.json\t       Stack_Overflow_Tag_Predictor.ipynb\n"
          ]
        }
      ]
    },
    {
      "cell_type": "code",
      "metadata": {
        "colab": {
          "base_uri": "https://localhost:8080/",
          "height": 397
        },
        "id": "oc5yrdh49S1B",
        "outputId": "038776d2-fbac-40cc-e0ac-5e2b6ab320c0"
      },
      "source": [
        "# Reading Data\n",
        "df = pd.read_csv('fake_job_postings.csv')\n",
        "print('No. of Datapoints =',df.shape[0])\n",
        "print('No. of Features =', df.shape[1])\n",
        "df[5:9]"
      ],
      "execution_count": null,
      "outputs": [
        {
          "output_type": "stream",
          "name": "stdout",
          "text": [
            "No. of Datapoints = 17880\n",
            "No. of Features = 18\n"
          ]
        },
        {
          "output_type": "execute_result",
          "data": {
            "text/html": [
              "<div>\n",
              "<style scoped>\n",
              "    .dataframe tbody tr th:only-of-type {\n",
              "        vertical-align: middle;\n",
              "    }\n",
              "\n",
              "    .dataframe tbody tr th {\n",
              "        vertical-align: top;\n",
              "    }\n",
              "\n",
              "    .dataframe thead th {\n",
              "        text-align: right;\n",
              "    }\n",
              "</style>\n",
              "<table border=\"1\" class=\"dataframe\">\n",
              "  <thead>\n",
              "    <tr style=\"text-align: right;\">\n",
              "      <th></th>\n",
              "      <th>job_id</th>\n",
              "      <th>title</th>\n",
              "      <th>location</th>\n",
              "      <th>department</th>\n",
              "      <th>salary_range</th>\n",
              "      <th>company_profile</th>\n",
              "      <th>description</th>\n",
              "      <th>requirements</th>\n",
              "      <th>benefits</th>\n",
              "      <th>telecommuting</th>\n",
              "      <th>has_company_logo</th>\n",
              "      <th>has_questions</th>\n",
              "      <th>employment_type</th>\n",
              "      <th>required_experience</th>\n",
              "      <th>required_education</th>\n",
              "      <th>industry</th>\n",
              "      <th>function</th>\n",
              "      <th>fraudulent</th>\n",
              "    </tr>\n",
              "  </thead>\n",
              "  <tbody>\n",
              "    <tr>\n",
              "      <th>5</th>\n",
              "      <td>6</td>\n",
              "      <td>Accounting Clerk</td>\n",
              "      <td>US, MD,</td>\n",
              "      <td>NaN</td>\n",
              "      <td>NaN</td>\n",
              "      <td>NaN</td>\n",
              "      <td>Job OverviewApex is an environmental consultin...</td>\n",
              "      <td>NaN</td>\n",
              "      <td>NaN</td>\n",
              "      <td>0</td>\n",
              "      <td>0</td>\n",
              "      <td>0</td>\n",
              "      <td>NaN</td>\n",
              "      <td>NaN</td>\n",
              "      <td>NaN</td>\n",
              "      <td>NaN</td>\n",
              "      <td>NaN</td>\n",
              "      <td>0</td>\n",
              "    </tr>\n",
              "    <tr>\n",
              "      <th>6</th>\n",
              "      <td>7</td>\n",
              "      <td>Head of Content (m/f)</td>\n",
              "      <td>DE, BE, Berlin</td>\n",
              "      <td>ANDROIDPIT</td>\n",
              "      <td>20000-28000</td>\n",
              "      <td>Founded in 2009, the Fonpit AG rose with its i...</td>\n",
              "      <td>Your Responsibilities: Manage the English-spea...</td>\n",
              "      <td>Your Know-How:                                ...</td>\n",
              "      <td>Your Benefits: Being part of a fast-growing co...</td>\n",
              "      <td>0</td>\n",
              "      <td>1</td>\n",
              "      <td>1</td>\n",
              "      <td>Full-time</td>\n",
              "      <td>Mid-Senior level</td>\n",
              "      <td>Master's Degree</td>\n",
              "      <td>Online Media</td>\n",
              "      <td>Management</td>\n",
              "      <td>0</td>\n",
              "    </tr>\n",
              "    <tr>\n",
              "      <th>7</th>\n",
              "      <td>8</td>\n",
              "      <td>Lead Guest Service Specialist</td>\n",
              "      <td>US, CA, San Francisco</td>\n",
              "      <td>NaN</td>\n",
              "      <td>NaN</td>\n",
              "      <td>Airenvy’s mission is to provide lucrative yet ...</td>\n",
              "      <td>Who is Airenvy?Hey there! We are seasoned entr...</td>\n",
              "      <td>Experience with CRM software, live chat, and p...</td>\n",
              "      <td>Competitive Pay. You'll be able to eat steak e...</td>\n",
              "      <td>0</td>\n",
              "      <td>1</td>\n",
              "      <td>1</td>\n",
              "      <td>NaN</td>\n",
              "      <td>NaN</td>\n",
              "      <td>NaN</td>\n",
              "      <td>NaN</td>\n",
              "      <td>NaN</td>\n",
              "      <td>0</td>\n",
              "    </tr>\n",
              "    <tr>\n",
              "      <th>8</th>\n",
              "      <td>9</td>\n",
              "      <td>HP BSM SME</td>\n",
              "      <td>US, FL, Pensacola</td>\n",
              "      <td>NaN</td>\n",
              "      <td>NaN</td>\n",
              "      <td>Solutions3 is a woman-owned small business who...</td>\n",
              "      <td>Implementation/Configuration/Testing/Training ...</td>\n",
              "      <td>MUST BE A US CITIZEN.An active TS/SCI clearanc...</td>\n",
              "      <td>NaN</td>\n",
              "      <td>0</td>\n",
              "      <td>1</td>\n",
              "      <td>1</td>\n",
              "      <td>Full-time</td>\n",
              "      <td>Associate</td>\n",
              "      <td>NaN</td>\n",
              "      <td>Information Technology and Services</td>\n",
              "      <td>NaN</td>\n",
              "      <td>0</td>\n",
              "    </tr>\n",
              "  </tbody>\n",
              "</table>\n",
              "</div>"
            ],
            "text/plain": [
              "   job_id                             title  ...    function fraudulent\n",
              "5       6                  Accounting Clerk  ...         NaN          0\n",
              "6       7             Head of Content (m/f)  ...  Management          0\n",
              "7       8  Lead Guest Service Specialist     ...         NaN          0\n",
              "8       9                        HP BSM SME  ...         NaN          0\n",
              "\n",
              "[4 rows x 18 columns]"
            ]
          },
          "metadata": {},
          "execution_count": 5
        }
      ]
    },
    {
      "cell_type": "code",
      "metadata": {
        "colab": {
          "base_uri": "https://localhost:8080/"
        },
        "id": "p6RHZ-ae-tL8",
        "outputId": "ad33a165-839d-43ef-a0e2-f173ed00d708"
      },
      "source": [
        "df.info()"
      ],
      "execution_count": null,
      "outputs": [
        {
          "output_type": "stream",
          "name": "stdout",
          "text": [
            "<class 'pandas.core.frame.DataFrame'>\n",
            "RangeIndex: 17880 entries, 0 to 17879\n",
            "Data columns (total 18 columns):\n",
            " #   Column               Non-Null Count  Dtype \n",
            "---  ------               --------------  ----- \n",
            " 0   job_id               17880 non-null  int64 \n",
            " 1   title                17880 non-null  object\n",
            " 2   location             17534 non-null  object\n",
            " 3   department           6333 non-null   object\n",
            " 4   salary_range         2868 non-null   object\n",
            " 5   company_profile      14572 non-null  object\n",
            " 6   description          17879 non-null  object\n",
            " 7   requirements         15185 non-null  object\n",
            " 8   benefits             10670 non-null  object\n",
            " 9   telecommuting        17880 non-null  int64 \n",
            " 10  has_company_logo     17880 non-null  int64 \n",
            " 11  has_questions        17880 non-null  int64 \n",
            " 12  employment_type      14409 non-null  object\n",
            " 13  required_experience  10830 non-null  object\n",
            " 14  required_education   9775 non-null   object\n",
            " 15  industry             12977 non-null  object\n",
            " 16  function             11425 non-null  object\n",
            " 17  fraudulent           17880 non-null  int64 \n",
            "dtypes: int64(5), object(13)\n",
            "memory usage: 2.5+ MB\n"
          ]
        }
      ]
    },
    {
      "cell_type": "code",
      "metadata": {
        "colab": {
          "base_uri": "https://localhost:8080/"
        },
        "id": "0-wDsvtj_gsA",
        "outputId": "dbca2ab7-26d5-49d0-fb3d-3ace6979b454"
      },
      "source": [
        "numerical_features = [df.columns[i] for i in range(len(df.columns)) if (df[df.columns[i]].dtype=='int64')]\n",
        "print('Numerical features : ',numerical_features)"
      ],
      "execution_count": null,
      "outputs": [
        {
          "output_type": "stream",
          "name": "stdout",
          "text": [
            "Numerical features :  ['job_id', 'telecommuting', 'has_company_logo', 'has_questions', 'fraudulent']\n"
          ]
        }
      ]
    },
    {
      "cell_type": "markdown",
      "metadata": {
        "id": "VXgLd6QP--ya"
      },
      "source": [
        "\n",
        "<h3>The dataset has 17880 job postings, with 18 features. Out of these 18 features, only 5 are numerical and rest of them are text based.</h3>\n",
        "\n"
      ]
    },
    {
      "cell_type": "code",
      "metadata": {
        "colab": {
          "base_uri": "https://localhost:8080/",
          "height": 330
        },
        "id": "MsowxSOg_bIw",
        "outputId": "6859fa42-e96b-4c06-f878-0ba0ba6ef2e8"
      },
      "source": [
        "# Checking if data is balanced\n",
        "print(f''' No. of negative points : {df['fraudulent'].value_counts()[0]} ({ np.round( df['fraudulent'].value_counts()[0]/df.shape[0] * 100, 2)  }%)''')\n",
        "print(f''' No. of positive points :   {df['fraudulent'].value_counts()[1]} ({np.round(100 - df['fraudulent'].value_counts()[0]/df.shape[0] *100, 2)}%)  \\n''')\n",
        "plt.figure()\n",
        "sns.countplot(df['fraudulent'])\n",
        "plt.show()"
      ],
      "execution_count": null,
      "outputs": [
        {
          "output_type": "stream",
          "name": "stdout",
          "text": [
            " No. of negative points : 17014 (95.16%)\n",
            " No. of positive points :   866 (4.84%)  \n",
            "\n"
          ]
        },
        {
          "output_type": "display_data",
          "data": {
            "image/png": "[encoded data removed]",
            "text/plain": [
              "<Figure size 432x288 with 1 Axes>"
            ]
          },
          "metadata": {
            "needs_background": "light"
          }
        }
      ]
    },
    {
      "cell_type": "markdown",
      "metadata": {
        "id": "QlrHYTpfF09r"
      },
      "source": [
        "<h3>The dataset is Highly Imbalanced</h3>"
      ]
    },
    {
      "cell_type": "code",
      "metadata": {
        "colab": {
          "base_uri": "https://localhost:8080/"
        },
        "id": "MjCGlytfgsD1",
        "outputId": "6f0c02d2-984f-488e-b47a-7eb8f0a2b5bb"
      },
      "source": [
        "# features having NA items\n",
        "na_features = [feature for feature in df.columns if df[str(feature)].isnull().values.any()]\n",
        "not_na_features = [feature for feature in df.columns if feature not in na_features]\n",
        "print(f'No. of features with no missing values= {len(not_na_features)}')\n",
        "print(f'These are : {not_na_features}\\n')\n",
        "\n",
        "print(f'No. of features with missing values   = {len(na_features)}')\n",
        "print(f'These are : {na_features}')\n",
        "# len(na_features) + len(not_na_features)"
      ],
      "execution_count": null,
      "outputs": [
        {
          "output_type": "stream",
          "name": "stdout",
          "text": [
            "No. of features with no missing values= 6\n",
            "These are : ['job_id', 'title', 'telecommuting', 'has_company_logo', 'has_questions', 'fraudulent']\n",
            "\n",
            "No. of features with missing values   = 12\n",
            "These are : ['location', 'department', 'salary_range', 'company_profile', 'description', 'requirements', 'benefits', 'employment_type', 'required_experience', 'required_education', 'industry', 'function']\n"
          ]
        }
      ]
    },
    {
      "cell_type": "code",
      "metadata": {
        "colab": {
          "base_uri": "https://localhost:8080/",
          "height": 555
        },
        "id": "5Luzp2ckipmk",
        "outputId": "4d2b9b93-3a9a-4556-ce28-ef0c8ca7be0f"
      },
      "source": [
        "# % of missing values\n",
        "na_percentage = [np.round(df[feature].isnull().values.sum()/df.shape[0]*100, 2) for feature in na_features]\n",
        "print(pd.DataFrame(set(zip(na_features, na_percentage)), columns=['Feature', 'NA %']))\n",
        "fig = plt.figure(figsize = (10, 5))\n",
        "plt.barh(na_features, na_percentage)\n",
        "plt.ylabel('Features with NA')\n",
        "plt.xlabel('Percentage of NA values')\n",
        "plt.show()"
      ],
      "execution_count": null,
      "outputs": [
        {
          "output_type": "stream",
          "name": "stdout",
          "text": [
            "                Feature   NA %\n",
            "0            department  64.58\n",
            "1          requirements  15.07\n",
            "2   required_experience  39.43\n",
            "3           description   0.01\n",
            "4       employment_type  19.41\n",
            "5              location   1.94\n",
            "6       company_profile  18.50\n",
            "7          salary_range  83.96\n",
            "8              benefits  40.32\n",
            "9    required_education  45.33\n",
            "10             function  36.10\n",
            "11             industry  27.42\n"
          ]
        },
        {
          "output_type": "display_data",
          "data": {
            "image/png": "[encoded data removed]",
            "text/plain": [
              "<Figure size 720x360 with 1 Axes>"
            ]
          },
          "metadata": {
            "needs_background": "light"
          }
        }
      ]
    },
    {
      "cell_type": "markdown",
      "metadata": {
        "id": "8Iw4Wy5fJXAz"
      },
      "source": [
        "<h4>Features 'salary-range' has 84%, and 'department' has 65% missing values.\n",
        "\n",
        "While 'description' has only 1 missing value and 'location' has 2% missing values.\n",
        "\n",
        "We can completely drop feature salary-range and for 'description' and 'location' only drop the rows with values missing.</h4>"
      ]
    },
    {
      "cell_type": "code",
      "metadata": {
        "colab": {
          "base_uri": "https://localhost:8080/",
          "height": 204
        },
        "id": "B5k-6jzTl4_b",
        "outputId": "227a0e3b-0388-4da5-caee-512167662865"
      },
      "source": [
        "# Analysing feature 'salary_range' with 84% missing values\n",
        "p =  re.compile('[0-9]+-[0-9]+', re.IGNORECASE)\n",
        "\n",
        "\n",
        "sal_range_fraud_df = df[['salary_range', 'fraudulent']].dropna()[  df[['salary_range', 'fraudulent']].dropna()['salary_range'].apply(lambda x: p.match(str(x))!=None)  ]\n",
        "sal_range_fraud_df['low_sal'] = sal_range_fraud_df['salary_range'].apply(lambda x: float(x.split('-')[0]))\n",
        "sal_range_fraud_df['high_sal'] = sal_range_fraud_df['salary_range'].apply(lambda x: float(x.split('-')[1]))\n",
        "sal_range_fraud_df['mean_sal'] = sal_range_fraud_df['salary_range'].apply(lambda x:   (float(x.split('-')[0]) + float(x.split('-')[1])) / 2) \n",
        "\n",
        "c = sal_range_fraud_df.columns    # reaaraing columns\n",
        "sal_range_fraud_df = sal_range_fraud_df[[c[0], c[2], c[3], c[4], c[1]]]\n",
        "\n",
        "sal_range_fraud_df.head()"
      ],
      "execution_count": null,
      "outputs": [
        {
          "output_type": "execute_result",
          "data": {
            "text/html": [
              "<div>\n",
              "<style scoped>\n",
              "    .dataframe tbody tr th:only-of-type {\n",
              "        vertical-align: middle;\n",
              "    }\n",
              "\n",
              "    .dataframe tbody tr th {\n",
              "        vertical-align: top;\n",
              "    }\n",
              "\n",
              "    .dataframe thead th {\n",
              "        text-align: right;\n",
              "    }\n",
              "</style>\n",
              "<table border=\"1\" class=\"dataframe\">\n",
              "  <thead>\n",
              "    <tr style=\"text-align: right;\">\n",
              "      <th></th>\n",
              "      <th>salary_range</th>\n",
              "      <th>low_sal</th>\n",
              "      <th>high_sal</th>\n",
              "      <th>mean_sal</th>\n",
              "      <th>fraudulent</th>\n",
              "    </tr>\n",
              "  </thead>\n",
              "  <tbody>\n",
              "    <tr>\n",
              "      <th>6</th>\n",
              "      <td>20000-28000</td>\n",
              "      <td>20000.0</td>\n",
              "      <td>28000.0</td>\n",
              "      <td>24000.0</td>\n",
              "      <td>0</td>\n",
              "    </tr>\n",
              "    <tr>\n",
              "      <th>10</th>\n",
              "      <td>100000-120000</td>\n",
              "      <td>100000.0</td>\n",
              "      <td>120000.0</td>\n",
              "      <td>110000.0</td>\n",
              "      <td>0</td>\n",
              "    </tr>\n",
              "    <tr>\n",
              "      <th>15</th>\n",
              "      <td>120000-150000</td>\n",
              "      <td>120000.0</td>\n",
              "      <td>150000.0</td>\n",
              "      <td>135000.0</td>\n",
              "      <td>0</td>\n",
              "    </tr>\n",
              "    <tr>\n",
              "      <th>23</th>\n",
              "      <td>100000-120000</td>\n",
              "      <td>100000.0</td>\n",
              "      <td>120000.0</td>\n",
              "      <td>110000.0</td>\n",
              "      <td>0</td>\n",
              "    </tr>\n",
              "    <tr>\n",
              "      <th>31</th>\n",
              "      <td>50000-65000</td>\n",
              "      <td>50000.0</td>\n",
              "      <td>65000.0</td>\n",
              "      <td>57500.0</td>\n",
              "      <td>0</td>\n",
              "    </tr>\n",
              "  </tbody>\n",
              "</table>\n",
              "</div>"
            ],
            "text/plain": [
              "     salary_range   low_sal  high_sal  mean_sal  fraudulent\n",
              "6     20000-28000   20000.0   28000.0   24000.0           0\n",
              "10  100000-120000  100000.0  120000.0  110000.0           0\n",
              "15  120000-150000  120000.0  150000.0  135000.0           0\n",
              "23  100000-120000  100000.0  120000.0  110000.0           0\n",
              "31    50000-65000   50000.0   65000.0   57500.0           0"
            ]
          },
          "metadata": {},
          "execution_count": 11
        }
      ]
    },
    {
      "cell_type": "code",
      "metadata": {
        "colab": {
          "base_uri": "https://localhost:8080/",
          "height": 836
        },
        "id": "ASBJa2tpM5Ys",
        "outputId": "260eb65a-f608-4f85-f18a-91c1e7773ace"
      },
      "source": [
        "for feature in sal_range_fraud_df.columns[1:-1]:\n",
        "  plt.bar(sal_range_fraud_df['fraudulent'], sal_range_fraud_df[str(feature)])\n",
        "  plt.xlabel('fraudulent')\n",
        "  plt.xticks(sal_range_fraud_df['fraudulent'])\n",
        "  plt.ylabel(str(feature))\n",
        "  plt.show()"
      ],
      "execution_count": null,
      "outputs": [
        {
          "output_type": "display_data",
          "data": {
            "image/png": "[encoded data removed]",
            "text/plain": [
              "<Figure size 432x288 with 1 Axes>"
            ]
          },
          "metadata": {
            "needs_background": "light"
          }
        },
        {
          "output_type": "display_data",
          "data": {
            "image/png": "[encoded data removed]",
            "text/plain": [
              "<Figure size 432x288 with 1 Axes>"
            ]
          },
          "metadata": {
            "needs_background": "light"
          }
        },
        {
          "output_type": "display_data",
          "data": {
            "image/png": "[encoded data removed]",
            "text/plain": [
              "<Figure size 432x288 with 1 Axes>"
            ]
          },
          "metadata": {
            "needs_background": "light"
          }
        }
      ]
    },
    {
      "cell_type": "code",
      "metadata": {
        "colab": {
          "base_uri": "https://localhost:8080/",
          "height": 297
        },
        "id": "tCtNLdaxY139",
        "outputId": "c115c22b-fa08-46b6-d0e2-e71bea988373"
      },
      "source": [
        "# Analysing 'has_company_logo'\n",
        "sns.countplot(df['has_company_logo'], hue=df['fraudulent'])"
      ],
      "execution_count": null,
      "outputs": [
        {
          "output_type": "execute_result",
          "data": {
            "text/plain": [
              "<matplotlib.axes._subplots.AxesSubplot at 0x7f02e399e450>"
            ]
          },
          "metadata": {},
          "execution_count": 13
        },
        {
          "output_type": "display_data",
          "data": {
            "image/png": "[encoded data removed]",
            "text/plain": [
              "<Figure size 432x288 with 1 Axes>"
            ]
          },
          "metadata": {
            "needs_background": "light"
          }
        }
      ]
    },
    {
      "cell_type": "markdown",
      "metadata": {
        "id": "LcI91QtcZjYV"
      },
      "source": [
        "<h4>We can conclude that given that the company has no logo, there is a high chance of it being fraudulent. On the other hand, fraud rates are very less if company has a logo.\n",
        "Also it does not have any missing values.\n",
        "Thus, 'has_company_logo' is an important feature for classification.\n",
        "\n",
        "But this can be misleading since the data is highly imbalanced</h4>"
      ]
    },
    {
      "cell_type": "code",
      "metadata": {
        "colab": {
          "base_uri": "https://localhost:8080/",
          "height": 958
        },
        "id": "YCJrvUmY7Sjp",
        "outputId": "b8085971-1d7d-41ee-80ce-d6abcab74bf4"
      },
      "source": [
        "# Analysing numerical features '\n",
        "for feature in numerical_features[1:]:\n",
        "  if feature not in na_features and feature not in ['job_id', 'fraudulent']:\n",
        "    plt.figure()\n",
        "    print(feature)\n",
        "    sns.countplot(df[feature], hue=df['fraudulent'])\n",
        "    print(f'''No. of records with {feature} =0 : {df[feature].value_counts()[0]}; Fraud % : {(df.groupby(feature)['fraudulent'].mean()*100)[0]}%''')\n",
        "    print(f'''No. of records with {feature}=1 : {df[feature].value_counts()[1]}; Fraud % : {(df.groupby(feature)['fraudulent'].mean()*100)[1]}%''')\n",
        "    plt.show()"
      ],
      "execution_count": null,
      "outputs": [
        {
          "output_type": "stream",
          "name": "stdout",
          "text": [
            "telecommuting\n",
            "No. of records with telecommuting =0 : 17113; Fraud % : 4.6864956465844685%\n",
            "No. of records with telecommuting=1 : 767; Fraud % : 8.34419817470665%\n"
          ]
        },
        {
          "output_type": "display_data",
          "data": {
            "image/png": "[encoded data removed]",
            "text/plain": [
              "<Figure size 432x288 with 1 Axes>"
            ]
          },
          "metadata": {
            "needs_background": "light"
          }
        },
        {
          "output_type": "stream",
          "name": "stdout",
          "text": [
            "has_company_logo\n",
            "No. of records with has_company_logo =0 : 3660; Fraud % : 15.92896174863388%\n",
            "No. of records with has_company_logo=1 : 14220; Fraud % : 1.990154711673699%\n"
          ]
        },
        {
          "output_type": "display_data",
          "data": {
            "image/png": "[encoded data removed]",
            "text/plain": [
              "<Figure size 432x288 with 1 Axes>"
            ]
          },
          "metadata": {
            "needs_background": "light"
          }
        },
        {
          "output_type": "stream",
          "name": "stdout",
          "text": [
            "has_questions\n",
            "No. of records with has_questions =0 : 9088; Fraud % : 6.778169014084508%\n",
            "No. of records with has_questions=1 : 8792; Fraud % : 2.843494085532302%\n"
          ]
        },
        {
          "output_type": "display_data",
          "data": {
            "image/png": "[encoded data removed]",
            "text/plain": [
              "<Figure size 432x288 with 1 Axes>"
            ]
          },
          "metadata": {
            "needs_background": "light"
          }
        }
      ]
    },
    {
      "cell_type": "markdown",
      "metadata": {
        "id": "hd3dElxsbZMN"
      },
      "source": [
        "Following observations can be made from above plots :\n",
        "\n",
        "1. telecommuting : Probability/Chance of a datapoint being fraud is 2 times higher when this feature's value is 1 comapared to when it is 0.\n",
        "\n",
        "2. has_company_logo : Chance of a datapoint being fraud is 7 times higher when this feature's value is 0 comapared to when it is 1.\n",
        "\n",
        "3. has_questions : Chance of a datapoint being fraud is 3 times higher when this feature's value is 0 comapared to when it is 1.\n",
        "\n",
        "Out of above three numerical features, the feature 'has_company_logo' is a major deciding factor for predicting fraud or not fraud."
      ]
    },
    {
      "cell_type": "code",
      "metadata": {
        "colab": {
          "base_uri": "https://localhost:8080/",
          "height": 297
        },
        "id": "F-kFcaascMe2",
        "outputId": "930c3d1a-53fc-4e6a-f0bf-65fdffe76c72"
      },
      "source": [
        "# Analysing feature job_id\n",
        "sns.boxplot(df['job_id'])\n",
        "len(df['job_id'].unique())"
      ],
      "execution_count": null,
      "outputs": [
        {
          "output_type": "execute_result",
          "data": {
            "text/plain": [
              "17880"
            ]
          },
          "metadata": {},
          "execution_count": 15
        },
        {
          "output_type": "display_data",
          "data": {
            "image/png": "[encoded data removed]",
            "text/plain": [
              "<Figure size 432x288 with 1 Axes>"
            ]
          },
          "metadata": {
            "needs_background": "light"
          }
        }
      ]
    },
    {
      "cell_type": "markdown",
      "metadata": {
        "id": "qEe6btVDuPNX"
      },
      "source": [
        "feature 'job_id' is only for unique identification of data points and can be removed for classficiation"
      ]
    },
    {
      "cell_type": "code",
      "metadata": {
        "colab": {
          "base_uri": "https://localhost:8080/"
        },
        "id": "QC2LvrWUvadv",
        "outputId": "43d9a4e5-e60e-4183-979c-2a17cc858ec7"
      },
      "source": [
        "df.columns"
      ],
      "execution_count": null,
      "outputs": [
        {
          "output_type": "execute_result",
          "data": {
            "text/plain": [
              "Index(['job_id', 'title', 'location', 'department', 'salary_range',\n",
              "       'company_profile', 'description', 'requirements', 'benefits',\n",
              "       'telecommuting', 'has_company_logo', 'has_questions', 'employment_type',\n",
              "       'required_experience', 'required_education', 'industry', 'function',\n",
              "       'fraudulent'],\n",
              "      dtype='object')"
            ]
          },
          "metadata": {},
          "execution_count": 16
        }
      ]
    },
    {
      "cell_type": "code",
      "metadata": {
        "colab": {
          "base_uri": "https://localhost:8080/",
          "height": 255
        },
        "id": "3hSNvlimug4H",
        "outputId": "827dd29b-4f0d-4d3b-e91f-a9793e3e1ebb"
      },
      "source": [
        "# Analysing feature 'function'\n",
        "func_fraud_df = df[['function', 'fraudulent']].dropna()\n",
        "print(f'''No. of datapoints with no missing values of function: {func_fraud_df.shape[0]}''')\n",
        "print(f'''No. of unique function values: {len(func_fraud_df['function'].unique())}\\n''')\n",
        "func_fraud_df.head(5)"
      ],
      "execution_count": null,
      "outputs": [
        {
          "output_type": "stream",
          "name": "stdout",
          "text": [
            "No. of datapoints with no missing values of function: 11425\n",
            "No. of unique function values: 37\n",
            "\n"
          ]
        },
        {
          "output_type": "execute_result",
          "data": {
            "text/html": [
              "<div>\n",
              "<style scoped>\n",
              "    .dataframe tbody tr th:only-of-type {\n",
              "        vertical-align: middle;\n",
              "    }\n",
              "\n",
              "    .dataframe tbody tr th {\n",
              "        vertical-align: top;\n",
              "    }\n",
              "\n",
              "    .dataframe thead th {\n",
              "        text-align: right;\n",
              "    }\n",
              "</style>\n",
              "<table border=\"1\" class=\"dataframe\">\n",
              "  <thead>\n",
              "    <tr style=\"text-align: right;\">\n",
              "      <th></th>\n",
              "      <th>function</th>\n",
              "      <th>fraudulent</th>\n",
              "    </tr>\n",
              "  </thead>\n",
              "  <tbody>\n",
              "    <tr>\n",
              "      <th>0</th>\n",
              "      <td>Marketing</td>\n",
              "      <td>0</td>\n",
              "    </tr>\n",
              "    <tr>\n",
              "      <th>1</th>\n",
              "      <td>Customer Service</td>\n",
              "      <td>0</td>\n",
              "    </tr>\n",
              "    <tr>\n",
              "      <th>3</th>\n",
              "      <td>Sales</td>\n",
              "      <td>0</td>\n",
              "    </tr>\n",
              "    <tr>\n",
              "      <th>4</th>\n",
              "      <td>Health Care Provider</td>\n",
              "      <td>0</td>\n",
              "    </tr>\n",
              "    <tr>\n",
              "      <th>6</th>\n",
              "      <td>Management</td>\n",
              "      <td>0</td>\n",
              "    </tr>\n",
              "  </tbody>\n",
              "</table>\n",
              "</div>"
            ],
            "text/plain": [
              "               function  fraudulent\n",
              "0             Marketing           0\n",
              "1      Customer Service           0\n",
              "3                 Sales           0\n",
              "4  Health Care Provider           0\n",
              "6            Management           0"
            ]
          },
          "metadata": {},
          "execution_count": 17
        }
      ]
    },
    {
      "cell_type": "code",
      "metadata": {
        "colab": {
          "base_uri": "https://localhost:8080/",
          "height": 1000
        },
        "id": "VbZeIJfaOg5Z",
        "outputId": "4169c38f-b4b4-443b-ea03-b96178c7ce26"
      },
      "source": [
        "plt.figure(figsize=(20,6))\n",
        "sns.countplot(func_fraud_df['function'], hue=func_fraud_df['fraudulent'])\n",
        "plt.xticks(rotation=90)\n",
        "plt.show()\n",
        "\n",
        "def f(x):\n",
        "  d = {}\n",
        "  d['Count'] = x['function'].count()\n",
        "  d['Fraud Rate (in %)'] = np.round(x['fraudulent'].mean()*100, 2)\n",
        "  return pd.Series(d, index=['Count', 'Fraud Rate (in %)'])\n",
        "\n",
        "\n",
        "func_fraud_df.groupby('function').apply(f).sort_values(by = 'Fraud Rate (in %)', ascending = 'False')"
      ],
      "execution_count": null,
      "outputs": [
        {
          "output_type": "display_data",
          "data": {
            "image/png": "[encoded data removed]",
            "text/plain": [
              "<Figure size 1440x432 with 1 Axes>"
            ]
          },
          "metadata": {
            "needs_background": "light"
          }
        },
        {
          "output_type": "execute_result",
          "data": {
            "text/html": [
              "<div>\n",
              "<style scoped>\n",
              "    .dataframe tbody tr th:only-of-type {\n",
              "        vertical-align: middle;\n",
              "    }\n",
              "\n",
              "    .dataframe tbody tr th {\n",
              "        vertical-align: top;\n",
              "    }\n",
              "\n",
              "    .dataframe thead th {\n",
              "        text-align: right;\n",
              "    }\n",
              "</style>\n",
              "<table border=\"1\" class=\"dataframe\">\n",
              "  <thead>\n",
              "    <tr style=\"text-align: right;\">\n",
              "      <th></th>\n",
              "      <th>Count</th>\n",
              "      <th>Fraud Rate (in %)</th>\n",
              "    </tr>\n",
              "    <tr>\n",
              "      <th>function</th>\n",
              "      <th></th>\n",
              "      <th></th>\n",
              "    </tr>\n",
              "  </thead>\n",
              "  <tbody>\n",
              "    <tr>\n",
              "      <th>Writing/Editing</th>\n",
              "      <td>132.0</td>\n",
              "      <td>0.00</td>\n",
              "    </tr>\n",
              "    <tr>\n",
              "      <th>Legal</th>\n",
              "      <td>47.0</td>\n",
              "      <td>0.00</td>\n",
              "    </tr>\n",
              "    <tr>\n",
              "      <th>Product Management</th>\n",
              "      <td>114.0</td>\n",
              "      <td>0.00</td>\n",
              "    </tr>\n",
              "    <tr>\n",
              "      <th>Production</th>\n",
              "      <td>116.0</td>\n",
              "      <td>0.00</td>\n",
              "    </tr>\n",
              "    <tr>\n",
              "      <th>Purchasing</th>\n",
              "      <td>15.0</td>\n",
              "      <td>0.00</td>\n",
              "    </tr>\n",
              "    <tr>\n",
              "      <th>Quality Assurance</th>\n",
              "      <td>111.0</td>\n",
              "      <td>0.00</td>\n",
              "    </tr>\n",
              "    <tr>\n",
              "      <th>Training</th>\n",
              "      <td>38.0</td>\n",
              "      <td>0.00</td>\n",
              "    </tr>\n",
              "    <tr>\n",
              "      <th>Science</th>\n",
              "      <td>14.0</td>\n",
              "      <td>0.00</td>\n",
              "    </tr>\n",
              "    <tr>\n",
              "      <th>Supply Chain</th>\n",
              "      <td>36.0</td>\n",
              "      <td>0.00</td>\n",
              "    </tr>\n",
              "    <tr>\n",
              "      <th>Research</th>\n",
              "      <td>50.0</td>\n",
              "      <td>0.00</td>\n",
              "    </tr>\n",
              "    <tr>\n",
              "      <th>Health Care Provider</th>\n",
              "      <td>338.0</td>\n",
              "      <td>0.30</td>\n",
              "    </tr>\n",
              "    <tr>\n",
              "      <th>Education</th>\n",
              "      <td>325.0</td>\n",
              "      <td>0.31</td>\n",
              "    </tr>\n",
              "    <tr>\n",
              "      <th>Art/Creative</th>\n",
              "      <td>132.0</td>\n",
              "      <td>0.76</td>\n",
              "    </tr>\n",
              "    <tr>\n",
              "      <th>Design</th>\n",
              "      <td>340.0</td>\n",
              "      <td>0.88</td>\n",
              "    </tr>\n",
              "    <tr>\n",
              "      <th>Business Analyst</th>\n",
              "      <td>84.0</td>\n",
              "      <td>1.19</td>\n",
              "    </tr>\n",
              "    <tr>\n",
              "      <th>Marketing</th>\n",
              "      <td>830.0</td>\n",
              "      <td>1.20</td>\n",
              "    </tr>\n",
              "    <tr>\n",
              "      <th>Public Relations</th>\n",
              "      <td>76.0</td>\n",
              "      <td>1.32</td>\n",
              "    </tr>\n",
              "    <tr>\n",
              "      <th>General Business</th>\n",
              "      <td>68.0</td>\n",
              "      <td>1.47</td>\n",
              "    </tr>\n",
              "    <tr>\n",
              "      <th>Information Technology</th>\n",
              "      <td>1749.0</td>\n",
              "      <td>1.83</td>\n",
              "    </tr>\n",
              "    <tr>\n",
              "      <th>Management</th>\n",
              "      <td>317.0</td>\n",
              "      <td>1.89</td>\n",
              "    </tr>\n",
              "    <tr>\n",
              "      <th>Strategy/Planning</th>\n",
              "      <td>46.0</td>\n",
              "      <td>2.17</td>\n",
              "    </tr>\n",
              "    <tr>\n",
              "      <th>Manufacturing</th>\n",
              "      <td>74.0</td>\n",
              "      <td>2.70</td>\n",
              "    </tr>\n",
              "    <tr>\n",
              "      <th>Consulting</th>\n",
              "      <td>144.0</td>\n",
              "      <td>2.78</td>\n",
              "    </tr>\n",
              "    <tr>\n",
              "      <th>Sales</th>\n",
              "      <td>1468.0</td>\n",
              "      <td>2.79</td>\n",
              "    </tr>\n",
              "    <tr>\n",
              "      <th>Human Resources</th>\n",
              "      <td>205.0</td>\n",
              "      <td>4.39</td>\n",
              "    </tr>\n",
              "    <tr>\n",
              "      <th>Data Analyst</th>\n",
              "      <td>82.0</td>\n",
              "      <td>4.88</td>\n",
              "    </tr>\n",
              "    <tr>\n",
              "      <th>Customer Service</th>\n",
              "      <td>1229.0</td>\n",
              "      <td>5.45</td>\n",
              "    </tr>\n",
              "    <tr>\n",
              "      <th>Project Management</th>\n",
              "      <td>183.0</td>\n",
              "      <td>5.46</td>\n",
              "    </tr>\n",
              "    <tr>\n",
              "      <th>Advertising</th>\n",
              "      <td>90.0</td>\n",
              "      <td>5.56</td>\n",
              "    </tr>\n",
              "    <tr>\n",
              "      <th>Business Development</th>\n",
              "      <td>228.0</td>\n",
              "      <td>5.70</td>\n",
              "    </tr>\n",
              "    <tr>\n",
              "      <th>Engineering</th>\n",
              "      <td>1348.0</td>\n",
              "      <td>8.38</td>\n",
              "    </tr>\n",
              "    <tr>\n",
              "      <th>Finance</th>\n",
              "      <td>172.0</td>\n",
              "      <td>8.72</td>\n",
              "    </tr>\n",
              "    <tr>\n",
              "      <th>Other</th>\n",
              "      <td>325.0</td>\n",
              "      <td>9.85</td>\n",
              "    </tr>\n",
              "    <tr>\n",
              "      <th>Distribution</th>\n",
              "      <td>24.0</td>\n",
              "      <td>12.50</td>\n",
              "    </tr>\n",
              "    <tr>\n",
              "      <th>Accounting/Auditing</th>\n",
              "      <td>212.0</td>\n",
              "      <td>13.68</td>\n",
              "    </tr>\n",
              "    <tr>\n",
              "      <th>Financial Analyst</th>\n",
              "      <td>33.0</td>\n",
              "      <td>15.15</td>\n",
              "    </tr>\n",
              "    <tr>\n",
              "      <th>Administrative</th>\n",
              "      <td>630.0</td>\n",
              "      <td>18.89</td>\n",
              "    </tr>\n",
              "  </tbody>\n",
              "</table>\n",
              "</div>"
            ],
            "text/plain": [
              "                         Count  Fraud Rate (in %)\n",
              "function                                         \n",
              "Writing/Editing          132.0               0.00\n",
              "Legal                     47.0               0.00\n",
              "Product Management       114.0               0.00\n",
              "Production               116.0               0.00\n",
              "Purchasing                15.0               0.00\n",
              "Quality Assurance        111.0               0.00\n",
              "Training                  38.0               0.00\n",
              "Science                   14.0               0.00\n",
              "Supply Chain              36.0               0.00\n",
              "Research                  50.0               0.00\n",
              "Health Care Provider     338.0               0.30\n",
              "Education                325.0               0.31\n",
              "Art/Creative             132.0               0.76\n",
              "Design                   340.0               0.88\n",
              "Business Analyst          84.0               1.19\n",
              "Marketing                830.0               1.20\n",
              "Public Relations          76.0               1.32\n",
              "General Business          68.0               1.47\n",
              "Information Technology  1749.0               1.83\n",
              "Management               317.0               1.89\n",
              "Strategy/Planning         46.0               2.17\n",
              "Manufacturing             74.0               2.70\n",
              "Consulting               144.0               2.78\n",
              "Sales                   1468.0               2.79\n",
              "Human Resources          205.0               4.39\n",
              "Data Analyst              82.0               4.88\n",
              "Customer Service        1229.0               5.45\n",
              "Project Management       183.0               5.46\n",
              "Advertising               90.0               5.56\n",
              "Business Development     228.0               5.70\n",
              "Engineering             1348.0               8.38\n",
              "Finance                  172.0               8.72\n",
              "Other                    325.0               9.85\n",
              "Distribution              24.0              12.50\n",
              "Accounting/Auditing      212.0              13.68\n",
              "Financial Analyst         33.0              15.15\n",
              "Administrative           630.0              18.89"
            ]
          },
          "metadata": {},
          "execution_count": 18
        }
      ]
    },
    {
      "cell_type": "markdown",
      "metadata": {
        "id": "K88fUzXYfVac"
      },
      "source": [
        "<h3>Functions like <b>Writing/Editing, Research, Science</b> and some others have zero fraud rates whereas there exist functions like <b>Administrative (18.8%), Financial Analyst (15%), Accounting/Auditing</b> (13.68%) with high fraud rates.</h3>"
      ]
    },
    {
      "cell_type": "code",
      "metadata": {
        "colab": {
          "base_uri": "https://localhost:8080/"
        },
        "id": "5xqdg7xcfuMU",
        "outputId": "db891c53-155b-4272-bfeb-ca60fb977b04"
      },
      "source": [
        "# Analysing feature location\n",
        "print(f'''No. of unique location values = {len(df['location'].dropna().unique())}''')\n",
        "print(f'''No. of points of location excluding (na) = {len(df['location'].dropna())}\\n\\n''')\n",
        "print('Top 10 location values with maximum counts\\n\\n')\n",
        "df['location'].dropna().value_counts().sort_values(ascending=False)[:25]\n"
      ],
      "execution_count": null,
      "outputs": [
        {
          "output_type": "stream",
          "name": "stdout",
          "text": [
            "No. of unique location values = 3105\n",
            "No. of points of location excluding (na) = 17534\n",
            "\n",
            "\n",
            "Top 10 location values with maximum counts\n",
            "\n",
            "\n"
          ]
        },
        {
          "output_type": "execute_result",
          "data": {
            "text/plain": [
              "GB, LND, London          718\n",
              "US, NY, New York         658\n",
              "US, CA, San Francisco    472\n",
              "GR, I, Athens            464\n",
              "US, ,                    339\n",
              "US, TX, Houston          269\n",
              "US, IL, Chicago          255\n",
              "US, DC, Washington       251\n",
              "DE, BE, Berlin           221\n",
              "NZ, N, Auckland          218\n",
              "US, CA, Los Angeles      185\n",
              "GB, , London             179\n",
              "US, TX, Austin           174\n",
              "US, CA, San Diego        164\n",
              "GB, ,                    138\n",
              "US, GA, Atlanta          135\n",
              "GB, LND,                 131\n",
              "US, OR, Portland         131\n",
              "CA, ON, Toronto          123\n",
              "US, MA, Boston           117\n",
              "US, PA, Philadelphia     114\n",
              "US, MI, Detroit          112\n",
              "US, NY, Brooklyn         109\n",
              "US, TX, Dallas           104\n",
              "US, OH, Cleveland         95\n",
              "Name: location, dtype: int64"
            ]
          },
          "metadata": {},
          "execution_count": 19
        }
      ]
    },
    {
      "cell_type": "code",
      "metadata": {
        "colab": {
          "base_uri": "https://localhost:8080/",
          "height": 997
        },
        "id": "Sf5IZbhtjrKD",
        "outputId": "a6c39168-9e22-45e2-ae01-529eb4478964"
      },
      "source": [
        "loc_fraud_df = df[['location', 'fraudulent']].dropna()\n",
        "\n",
        "\n",
        "def g(x):\n",
        "  d = {}\n",
        "  d['Count'] = x['location'].count()\n",
        "  d['Fraud %'] = np.round(x['fraudulent'].mean()*100, 2)\n",
        "  return pd.Series(d, index=['Count', 'Fraud %'])\n",
        "\n",
        "print(f'\\nTop 25 most frequent locations along with their Fraud rates\\n')\n",
        "top_25_loc_df = loc_fraud_df.groupby('location').apply(g).sort_values(by = 'Count', ascending = 'True').tail(25).iloc[::-1]\n",
        "print(top_25_loc_df)\n",
        "plt.figure(figsize=(20,6))\n",
        "plt.bar(top_25_loc_df.index, top_25_loc_df['Count'])\n",
        "plt.bar(top_25_loc_df.index, top_25_loc_df['Fraud %'])\n",
        "# sns.barplot(x= top_25_loc_df.index, y=top_25_loc_df['Count'])\n",
        "plt.xticks(rotation=90)\n",
        "plt.xlabel('Location')\n",
        "plt.ylabel('Counts and Fraud Rates')\n",
        "plt.show()\n",
        "# sns.barplot(x=top_25_loc_df['Fraud %'])\n"
      ],
      "execution_count": null,
      "outputs": [
        {
          "output_type": "stream",
          "name": "stdout",
          "text": [
            "\n",
            "Top 25 most frequent locations along with their Fraud rates\n",
            "\n",
            "                       Count  Fraud %\n",
            "location                             \n",
            "GB, LND, London        718.0     0.28\n",
            "US, NY, New York       658.0     3.04\n",
            "US, CA, San Francisco  472.0     2.33\n",
            "GR, I, Athens          464.0     0.00\n",
            "US, ,                  339.0     8.26\n",
            "US, TX, Houston        269.0    34.20\n",
            "US, IL, Chicago        255.0     1.57\n",
            "US, DC, Washington     251.0     0.80\n",
            "DE, BE, Berlin         221.0     0.00\n",
            "NZ, N, Auckland        218.0     0.00\n",
            "US, CA, Los Angeles    185.0    12.43\n",
            "GB, , London           179.0     0.56\n",
            "US, TX, Austin         174.0     4.02\n",
            "US, CA, San Diego      164.0     0.61\n",
            "GB, ,                  138.0     0.72\n",
            "US, GA, Atlanta        135.0     3.70\n",
            "US, OR, Portland       131.0     0.76\n",
            "GB, LND,               131.0     1.53\n",
            "CA, ON, Toronto        123.0     4.88\n",
            "US, MA, Boston         117.0     1.71\n",
            "US, PA, Philadelphia   114.0     4.39\n",
            "US, MI, Detroit        112.0     0.89\n",
            "US, NY, Brooklyn       109.0     0.00\n",
            "US, TX, Dallas         104.0     1.92\n",
            "US, OH, Cleveland       95.0     0.00\n"
          ]
        },
        {
          "output_type": "display_data",
          "data": {
            "image/png": "[encoded data removed]",
            "text/plain": [
              "<Figure size 1440x432 with 1 Axes>"
            ]
          },
          "metadata": {
            "needs_background": "light"
          }
        }
      ]
    },
    {
      "cell_type": "markdown",
      "metadata": {
        "id": "5SgwgIusm9Ou"
      },
      "source": [
        "Locations like US, TX, Houston (Fraud % = 35) and US, CA, Los Angeles (Fraud % = 12) have high fraud rates.\n",
        "\n",
        "Locations like GR, I, Athens;  DE, BE, Berlin; NZ, N, Auckland have zero fraud rates in the given data."
      ]
    },
    {
      "cell_type": "code",
      "metadata": {
        "id": "q1wgPY_DnQrU",
        "colab": {
          "base_uri": "https://localhost:8080/"
        },
        "outputId": "a146d6c3-79ac-4816-dafc-bb0b810cf8a7"
      },
      "source": [
        "print(numerical_features)\n",
        "print(na_features)"
      ],
      "execution_count": null,
      "outputs": [
        {
          "output_type": "stream",
          "name": "stdout",
          "text": [
            "['job_id', 'telecommuting', 'has_company_logo', 'has_questions', 'fraudulent']\n",
            "['location', 'department', 'salary_range', 'company_profile', 'description', 'requirements', 'benefits', 'employment_type', 'required_experience', 'required_education', 'industry', 'function']\n"
          ]
        }
      ]
    },
    {
      "cell_type": "code",
      "metadata": {
        "colab": {
          "base_uri": "https://localhost:8080/"
        },
        "id": "Xjfp2tp4kA-d",
        "outputId": "c6fca485-872f-47c2-cee9-e52cb696f86e"
      },
      "source": [
        "# Analysing feature department\n",
        "emp_type_fraud_df = df[['employment_type', 'fraudulent']].dropna()\n",
        "emp_type_fraud_df.groupby('employment_type')['fraudulent'].mean()"
      ],
      "execution_count": null,
      "outputs": [
        {
          "output_type": "execute_result",
          "data": {
            "text/plain": [
              "employment_type\n",
              "Contract     0.028871\n",
              "Full-time    0.042169\n",
              "Other        0.066079\n",
              "Part-time    0.092848\n",
              "Temporary    0.008299\n",
              "Name: fraudulent, dtype: float64"
            ]
          },
          "metadata": {},
          "execution_count": 91
        }
      ]
    }
  ]
}
